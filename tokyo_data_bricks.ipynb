{
 "cells": [
  {
   "cell_type": "code",
   "execution_count": null,
   "metadata": {},
   "outputs": [],
   "source": [
    "#TO IMPORT \"COL\" FUNCTION  FROM \"pyspark.sql.functions\" MODULE TO REFERENCE COLUMNS IN A DATAFRAME\n",
    "from pyspark.sql.functions import col\n",
    "#TO IMPORT SEVERAL DATA TYPES\n",
    "from pyspark.sql.types import IntegerType, DoubleType, BooleanType, DateType"
   ]
  },
  {
   "cell_type": "code",
   "execution_count": null,
   "metadata": {},
   "outputs": [],
   "source": [
    "#DICTIONARY USED TO STORE CONFIGURATION SETTINGS TO INTERACT WITH AZURE BLOB\n",
    "configs = {\"fs.azure.account.auth.type\": \"OAuth\",\n",
    "\"fs.azure.account.oauth.provider.type\": \"org.apache.hadoop.fs.azurebfs.oauth2.ClientCredsTokenProvider\",\n",
    "\"fs.azure.account.oauth2.client.id\": '---',\n",
    "\"fs.azure.account.oauth2.client.secret\": \"---\",\n",
    "\"fs.azure.account.oauth2.client.endpoint\": \"https://login.microsoftonline.com/9d5ccada-eb84-48b9-aad8-f36345ec3b78/oauth2/token\"}\n",
    "\n",
    "\n",
    "#DBUTILS.FS.MOUNT FUNCTION TO MOUNT AN AZURE DATA LAKE STORAGE GEN2\n",
    " #CONTAINER AS A FILE SYSTEM WITHIN A DATABRICKS CLUSTER\n",
    "dbutils.fs.mount(\n",
    "source = \"abfss://tokyo-olympic-data@tokyoolympidata.dfs.core.windows.net\", # contrainer@storageacc\n",
    "mount_point = \"/mnt/tokyoolymic\",\n",
    "extra_configs = configs)"
   ]
  },
  {
   "cell_type": "code",
   "execution_count": null,
   "metadata": {},
   "outputs": [],
   "source": [
    " #It is used to list and display the currently mounted file systems \n",
    " %fs mounts"
   ]
  },
  {
   "cell_type": "code",
   "execution_count": null,
   "metadata": {},
   "outputs": [],
   "source": [
    "#THIS WILL LIST THE FILES IN THE LOCATION\n",
    "%fs\n",
    "ls \"/mnt/tokyoolymic\""
   ]
  },
  {
   "cell_type": "code",
   "execution_count": null,
   "metadata": {},
   "outputs": [],
   "source": [
    "# REFERENCE TO THE SPARKSESSION OBJECT IN APACHE SPARK, \n",
    "#A WIDELY USED FRAMEWORK FOR DISTRIBUTED DATA PROCESSING AND ANALYTICS.\n",
    "spark"
   ]
  },
  {
   "cell_type": "code",
   "execution_count": null,
   "metadata": {},
   "outputs": [],
   "source": [
    "#LINES USED TO READ FILES \n",
    "athletes=spark.read.format(\"csv\").option(\"header\",\"true\").load(\"/mnt/tokyoolymic/raw-data/Athletes\")\n",
    "coaches=spark.read.format(\"csv\").option(\"header\",\"true\").load(\"/mnt/tokyoolymic/raw-data/Coaches\")\n",
    "entriesgender=spark.read.format(\"csv\").option(\"header\",\"true\").load(\"/mnt/tokyoolymic/raw-data/EntriesGender\")\n",
    "medals=spark.read.format(\"csv\").option(\"header\",\"true\").option(\"inferSchema\",\"true\").load(\"/mnt/tokyoolymic/raw-data/Medals\")\n",
    "teams=spark.read.format(\"csv\").option(\"header\",\"true\").option(\"inferSchema\",\"true\").load(\"/mnt/tokyoolymic/raw-data/Teams\")"
   ]
  },
  {
   "cell_type": "code",
   "execution_count": null,
   "metadata": {},
   "outputs": [],
   "source": [
    "athletes.show()"
   ]
  },
  {
   "cell_type": "code",
   "execution_count": null,
   "metadata": {
    "vscode": {
     "languageId": "tex"
    }
   },
   "outputs": [],
   "source": [
    "+--------------------+--------------------+-------------------+\n",
    "|          PersonName|             Country|         Discipline|\n",
    "+--------------------+--------------------+-------------------+\n",
    "|     AALERUD Katrine|              Norway|       Cycling Road|\n",
    "|         ABAD Nestor|               Spain|Artistic Gymnastics|\n",
    "|   ABAGNALE Giovanni|               Italy|             Rowing|\n",
    "|      ABALDE Alberto|               Spain|         Basketball|\n",
    "|       ABALDE Tamara|               Spain|         Basketball|\n",
    "|           ABALO Luc|              France|           Handball|\n",
    "|        ABAROA Cesar|               Chile|             Rowing|\n",
    "|       ABASS Abobakr|               Sudan|           Swimming|\n",
    "|    ABBASALI Hamideh|Islamic Republic ...|             Karate|\n",
    "|       ABBASOV Islam|          Azerbaijan|          Wrestling|\n",
    "|        ABBINGH Lois|         Netherlands|           Handball|\n",
    "|         ABBOT Emily|           Australia|Rhythmic Gymnastics|\n",
    "|       ABBOTT Monica|United States of ...|  Baseball/Softball|\n",
    "|ABDALLA Abubaker ...|               Qatar|          Athletics|\n",
    "|      ABDALLA Maryam|               Egypt|  Artistic Swimming|\n",
    "|      ABDALLAH Shahd|               Egypt|  Artistic Swimming|\n",
    "| ABDALRASOOL Mohamed|               Sudan|               Judo|\n",
    "|   ABDEL LATIF Radwa|               Egypt|           Shooting|\n",
    "|    ABDEL RAZEK Samy|               Egypt|           Shooting|\n",
    "|   ABDELAZIZ Abdalla|               Egypt|             Karate|\n",
    "+--------------------+--------------------+-------------------+\n",
    "only showing top 20 rows"
   ]
  },
  {
   "cell_type": "code",
   "execution_count": null,
   "metadata": {},
   "outputs": [],
   "source": [
    "#WRITE THIS IN A SPECIFIC LOCATION\n",
    "athletes.repartition(1).write.mode(\"overwrite\").option(\"header\",\"true\").csv(\"/mnt/tokyoolymic/transformed-data/athletes\")\n",
    "coaches.repartition(1).write.mode(\"overwrite\").option(\"header\",\"true\").csv(\"/mnt/tokyoolymic/transformed-data/coaches\")\n",
    "entriesgender.repartition(1).write.mode(\"overwrite\").option(\"header\",\"true\").csv(\"/mnt/tokyoolymic/transformed-data/entriesgender\")\n",
    " \n",
    "medals.repartition(1).write.mode(\"overwrite\").option(\"header\",\"true\").csv(\"/mnt/tokyoolymic/transformed-data/medals\")\n",
    "teams.repartition(1).write.mode(\"overwrite\").option(\"header\",\"true\").csv(\"/mnt/tokyoolymic/transformed-data/teams\")"
   ]
  }
 ],
 "metadata": {
  "language_info": {
   "name": "python"
  }
 },
 "nbformat": 4,
 "nbformat_minor": 2
}
